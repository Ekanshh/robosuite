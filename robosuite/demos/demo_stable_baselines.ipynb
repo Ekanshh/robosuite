{
 "cells": [
  {
   "cell_type": "code",
   "execution_count": 1,
   "id": "66544504",
   "metadata": {},
   "outputs": [],
   "source": [
    "# References:\n",
    "# [1] https://www.youtube.com/watch?v=Mut_u40Sqz4\n",
    "# [2] https://github.com/ARISE-Initiative/robosuite/issues/131"
   ]
  },
  {
   "cell_type": "markdown",
   "id": "f5dfc4b2",
   "metadata": {},
   "source": [
    "# Dependencies"
   ]
  },
  {
   "cell_type": "code",
   "execution_count": 1,
   "id": "c6e31815",
   "metadata": {},
   "outputs": [
    {
     "name": "stdout",
     "output_type": "stream",
     "text": [
      "/usr/lib/x86_64-linux-gnu/libGLEW.so\n",
      "/opt/ros/melodic/lib:/home/damnghost/.mujoco/mujoco210/bin:/home/damnghost/.mujoco/mujoco200/bin\n"
     ]
    }
   ],
   "source": [
    "# !pip install stable-baselines3[extra]\n",
    "# Robosuite\n",
    "# gym\n",
    "\n",
    "!echo $LD_PRELOAD\n",
    "!echo $LD_LIBRARY_PATH\n"
   ]
  },
  {
   "cell_type": "markdown",
   "id": "b034ffa2",
   "metadata": {},
   "source": [
    "# RL"
   ]
  },
  {
   "cell_type": "code",
   "execution_count": 2,
   "id": "11dae8f4",
   "metadata": {},
   "outputs": [],
   "source": [
    "import os\n",
    "# openai \n",
    "import gym\n",
    "# Stable baseline imports\n",
    "from stable_baselines3 import PPO\n",
    "from stable_baselines3.common.save_util import save_to_zip_file, load_from_zip_file\n",
    "from stable_baselines3.common.monitor import Monitor\n",
    "from stable_baselines3.common.vec_env import DummyVecEnv, VecNormalize\n",
    "from stable_baselines3.common.evaluation import evaluate_policy\n",
    "# Robosuite imports\n",
    "import robosuite as suite\n",
    "from robosuite.wrappers import GymWrapper\n",
    "from robosuite.environments.base import register_env\n",
    "from robosuite import load_controller_config"
   ]
  },
  {
   "cell_type": "markdown",
   "id": "90a3360c",
   "metadata": {},
   "source": [
    "# Random Action: No Training"
   ]
  },
  {
   "cell_type": "code",
   "execution_count": 3,
   "id": "6da35582",
   "metadata": {},
   "outputs": [
    {
     "name": "stdout",
     "output_type": "stream",
     "text": [
      "Creating window glfw\n",
      "Creating window glfw\n"
     ]
    },
    {
     "name": "stderr",
     "output_type": "stream",
     "text": [
      "/home/damnghost/miniconda3/envs/rl_ultrasound/lib/python3.8/site-packages/gym/spaces/box.py:73: UserWarning: \u001b[33mWARN: Box bound precision lowered by casting to float32\u001b[0m\n",
      "  logger.warn(\n"
     ]
    },
    {
     "name": "stdout",
     "output_type": "stream",
     "text": [
      "Creating window glfw\n",
      "Cumulative reward: 343.3346532434673\n",
      "Episode: 0 Score: 343.3346532434673\n"
     ]
    }
   ],
   "source": [
    "# Notice how the environment is wrapped by the wrapper\n",
    "env = GymWrapper(suite.make(\n",
    "                    \"TwoArmPegInHole\",\n",
    "                    robots=[\"Panda\", \"Panda\"],  # use Sawyer robot\n",
    "                    use_camera_obs=False,  # do not use pixel observations\n",
    "                    has_offscreen_renderer=False,  # not needed since not using pixel obs\n",
    "                    has_renderer=True,  # make sure we can render to the screen\n",
    "                    reward_shaping=True,  # use dense rewards\n",
    "                    control_freq=20,  # control should happen fast enough so that simulation looks smooth\n",
    "                            )\n",
    "                )\n",
    "episodes = 1\n",
    "for i_episode in range(episodes):\n",
    "    observation = env.reset()\n",
    "    done = False\n",
    "    score = 0\n",
    "    while not done:\n",
    "        # env.render()\n",
    "        action = env.action_space.sample()\n",
    "        observation, reward, done, info = env.step(action)\n",
    "        score += reward\n",
    "    print(f\"Episode: {i_episode} Score: {score}\")\n",
    "\n",
    "env.close()"
   ]
  },
  {
   "cell_type": "markdown",
   "id": "81ac008b",
   "metadata": {},
   "source": [
    "# Environment Specification"
   ]
  },
  {
   "cell_type": "code",
   "execution_count": null,
   "id": "f5aff497",
   "metadata": {},
   "outputs": [],
   "source": [
    "print(f\"Initial State observations: \\n {env.reset()}\")\n",
    "print(f\"Action space: \\n{env.action_space}\")\n",
    "print(f\"Observation space: \\n{env.observation_space}\")\n",
    "env.close()"
   ]
  },
  {
   "cell_type": "markdown",
   "id": "0242859c",
   "metadata": {},
   "source": [
    "# Train RL Model"
   ]
  },
  {
   "cell_type": "code",
   "execution_count": null,
   "id": "c1acd047",
   "metadata": {},
   "outputs": [],
   "source": [
    "# Make directories\n",
    "log_dir = os.path.join('../Training', 'Logs')\n",
    "print(log_dir)"
   ]
  },
  {
   "cell_type": "code",
   "execution_count": null,
   "id": "f335a2b2",
   "metadata": {},
   "outputs": [],
   "source": [
    "def wrap_env(env):\n",
    "    wrapped_env = Monitor(env)                          # Needed for extracting eprewmean and eplenmean\n",
    "    wrapped_env = DummyVecEnv([lambda : wrapped_env])   # Needed for all environments (e.g. used for mulit-processing)\n",
    "    wrapped_env = VecNormalize(wrapped_env)             # Needed for improving training when using MuJoCo envs?\n",
    "    return wrapped_env"
   ]
  },
  {
   "cell_type": "code",
   "execution_count": null,
   "id": "3d4be8dd",
   "metadata": {},
   "outputs": [],
   "source": [
    "env = wrap_env(env)\n",
    "model = PPO('MlpPolicy', env, verbose=1, tensorboard_log=log_dir, )"
   ]
  },
  {
   "cell_type": "code",
   "execution_count": null,
   "id": "0e78e8f6",
   "metadata": {
    "scrolled": true
   },
   "outputs": [],
   "source": [
    "model.learn(total_timesteps=1, tb_log_name=\"TwoArmPegInHole_PPO_TEST\")"
   ]
  },
  {
   "cell_type": "code",
   "execution_count": null,
   "id": "be1756f8",
   "metadata": {},
   "outputs": [],
   "source": [
    "PPO_path = os.path.join('../Training', 'Saved_Models', 'TwoArmPegInHole_PPO_model')\n",
    "PPO_path"
   ]
  },
  {
   "cell_type": "code",
   "execution_count": null,
   "id": "b3e0de79",
   "metadata": {},
   "outputs": [],
   "source": [
    "model.save(PPO_path)\n",
    "del model"
   ]
  },
  {
   "cell_type": "code",
   "execution_count": null,
   "id": "6b43c0ce",
   "metadata": {},
   "outputs": [],
   "source": [
    "ENV_path = os.path.join('../Training', 'Saved_Env/')\n",
    "env.save(\"TwoArmPegInHole_VecNorm_Env.pkl\")\n",
    "ENV_path"
   ]
  }
 ],
 "metadata": {
  "kernelspec": {
   "display_name": "Python 3",
   "language": "python",
   "name": "python3"
  },
  "language_info": {
   "codemirror_mode": {
    "name": "ipython",
    "version": 3
   },
   "file_extension": ".py",
   "mimetype": "text/x-python",
   "name": "python",
   "nbconvert_exporter": "python",
   "pygments_lexer": "ipython3",
   "version": "3.8.13"
  }
 },
 "nbformat": 4,
 "nbformat_minor": 5
}
